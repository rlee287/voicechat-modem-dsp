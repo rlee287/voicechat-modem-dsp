{
 "cells": [
  {
   "cell_type": "markdown",
   "metadata": {},
   "source": [
    "# FSK Modulation and Demodulation"
   ]
  },
  {
   "cell_type": "markdown",
   "metadata": {},
   "source": [
    "FSK modulation varies the frequency of a signal to modulate information, and can be demodulated using techniques such as a Goertzel filter. FSK is insensitive to non-frequency-dependent amplitude variations."
   ]
  },
  {
   "cell_type": "code",
   "execution_count": 1,
   "metadata": {},
   "outputs": [],
   "source": [
    "import numpy as np\n",
    "from scipy import signal"
   ]
  },
  {
   "cell_type": "markdown",
   "metadata": {},
   "source": [
    "## Modulation"
   ]
  },
  {
   "cell_type": "markdown",
   "metadata": {},
   "source": [
    "We use coherent FSK modulation to prevent discontinuities when the frequency changes. To accomplish this, we view frequency as the derivative of phase, first constructing the list of frequencies, and then integrating it over time to get the instantaneous phase."
   ]
  },
  {
   "cell_type": "code",
   "execution_count": 2,
   "metadata": {},
   "outputs": [],
   "source": [
    "# Plot"
   ]
  },
  {
   "cell_type": "markdown",
   "metadata": {},
   "source": [
    "We also do amplitude shaping at the ends by padding the ends with a 0-frequency dummy symbol and performing Gaussian smoothing on the amplitude to prevent discontinuity at the ends of the modulated signal."
   ]
  },
  {
   "cell_type": "markdown",
   "metadata": {},
   "source": [
    "## Demodulation"
   ]
  },
  {
   "cell_type": "markdown",
   "metadata": {},
   "source": [
    "To perform demodulation, we construct a Goertzel filter, tuned to the desired frequency. The form of the Goertzel filter (taken from https://www.dsprelated.com/showarticle/796.php) is\n",
    "\n",
    "\\begin{align*}\n",
    "H_G(z) &= \\frac{1}{1-e^{2\\pi jf}z^{-1}} \\cdot \\frac{1-e^{-2\\pi jf}z^{-1}}{1-e^{-2\\pi jf}z^{-1}} \\\\\n",
    "&= \\frac{1-e^{-2\\pi jf}z^{-1}}{1-2\\cos(2\\pi f)z^{-1}+z^{-2}}\n",
    "\\end{align*}\n",
    "\n",
    "We use this form (which has complex-conjugate poles and a zero to cancel out the bottom pole) to improve numerical stability, as explained in the linked article above."
   ]
  },
  {
   "cell_type": "code",
   "execution_count": 3,
   "metadata": {},
   "outputs": [],
   "source": [
    "def goertzel_iir(freq,fs):\n",
    "    if freq>=0.5*fs:\n",
    "        raise ValueError(\"Desired peak frequency is too high\")\n",
    "    norm_freq=2*np.pi*freq/fs\n",
    "    numerator=[1,-np.exp(-1j*norm_freq)]\n",
    "    denominator=[1,-2*np.cos(norm_freq),1]\n",
    "    return (numerator,denominator)"
   ]
  },
  {
   "cell_type": "markdown",
   "metadata": {},
   "source": [
    "In order to perform the demodulation, we divide the modulated signal into symbol blocks, filter each block through Goertzel filters tuned to each frequency, and compare the absolute values of the last output of each filter."
   ]
  },
  {
   "cell_type": "code",
   "execution_count": 4,
   "metadata": {},
   "outputs": [],
   "source": [
    "# Compute and plot"
   ]
  },
  {
   "cell_type": "code",
   "execution_count": null,
   "metadata": {},
   "outputs": [],
   "source": []
  }
 ],
 "metadata": {
  "kernelspec": {
   "display_name": "Environment (virtualenv_voicechat-modem-dsp-ciksczpw)",
   "language": "python",
   "name": "virtualenv_voicechat-modem-dsp-ciksczpw"
  },
  "language_info": {
   "codemirror_mode": {
    "name": "ipython",
    "version": 3
   },
   "file_extension": ".py",
   "mimetype": "text/x-python",
   "name": "python",
   "nbconvert_exporter": "python",
   "pygments_lexer": "ipython3",
   "version": "3.7.3"
  }
 },
 "nbformat": 4,
 "nbformat_minor": 2
}
