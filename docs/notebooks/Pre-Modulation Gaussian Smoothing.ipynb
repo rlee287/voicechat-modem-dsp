{
 "cells": [
  {
   "cell_type": "markdown",
   "metadata": {},
   "source": [
    "# Parameters for the Gaussian Kernel"
   ]
  },
  {
   "cell_type": "markdown",
   "metadata": {},
   "source": [
    "The Gaussian kernel is often used as a smoothing filter. Because it is a lowpass kernel that is an eigenfunction under the Fourier transform, it lowpass filters without introducing ripple in either the time domain or the frequency domain. In `voicechat-modem-dsp`, we use Gaussian smoothing to remove high-frequency components from the datastream and to prevent Gibbs ringing upon lowpass reconstruction."
   ]
  },
  {
   "cell_type": "code",
   "execution_count": 1,
   "metadata": {},
   "outputs": [],
   "source": [
    "import numpy as np\n",
    "from scipy import signal\n",
    "from scipy.stats import norm"
   ]
  },
  {
   "cell_type": "code",
   "execution_count": 2,
   "metadata": {},
   "outputs": [],
   "source": [
    "%load_ext itikz"
   ]
  },
  {
   "cell_type": "markdown",
   "metadata": {},
   "source": [
    "The typical window size for a Gaussian kernel is $6\\sigma+1$ for integer $\\sigma$, so we generalize this for all positive $\\sigma$ as shown below (making sure that $w$ remains odd to avoid scalloping):\n",
    "\n",
    "$$\n",
    "w=\n",
    "\\begin{cases}\n",
    "\\lceil 6\\sigma+1 \\rceil & \\lceil 6\\sigma+1 \\rceil \\equiv 1 \\bmod 2 \\\\\n",
    "\\lceil 6\\sigma+1 \\rceil + 1 & \\lceil 6\\sigma+1 \\rceil \\equiv 0 \\bmod 2\n",
    "\\end{cases}\n",
    "$$"
   ]
  },
  {
   "cell_type": "code",
   "execution_count": 3,
   "metadata": {},
   "outputs": [],
   "source": [
    "\"\"\"\n",
    "Computes a gaussian smoothing filter given sampling rate and sigma time\n",
    "\"\"\"\n",
    "def gaussian_window(fs, sigma_dt):\n",
    "    sigma=sigma_dt*fs\n",
    "    sample_count=np.ceil(6*sigma+1)\n",
    "    if sample_count%2==0:\n",
    "        sample_count+=1\n",
    "    raw_window=signal.windows.gaussian(sample_count, sigma)\n",
    "    raw_window_sum=np.sum(raw_window)\n",
    "    return raw_window/raw_window_sum"
   ]
  },
  {
   "cell_type": "markdown",
   "metadata": {},
   "source": [
    "There are two criteria that we use to calculate the sigma and prevent intersymbol interference: the time-domain criterion and the frequency-domain criterion."
   ]
  },
  {
   "cell_type": "markdown",
   "metadata": {},
   "source": [
    "## Time-Domain Criterion"
   ]
  },
  {
   "cell_type": "markdown",
   "metadata": {},
   "source": [
    "Given a pulse with a width, we want to ensure that the total portion of the transition significantly affected by smoothing is at most half the pulse width.\n",
    "\n",
    "To more precisely define \"significantly affected\", we define a threshold such that, for a transition from extremes, the filtered pulse settles on the final value close enough to be unambiguously different from the neighboring symbols. We assume 256 distinct, evenly spaced symbols, leaving a band of $s\\pm\\frac{1}{512}$ in which a symbol can be recognized unambiguously.\n",
    "\n",
    "Below is a diagram illustrating the constraints:"
   ]
  },
  {
   "cell_type": "code",
   "execution_count": 4,
   "metadata": {},
   "outputs": [],
   "source": [
    "#diagram"
   ]
  },
  {
   "cell_type": "markdown",
   "metadata": {},
   "source": [
    "The usable segment $l=\\frac{w}{2}$ of the pulse is $w-2k_t \\sigma_t$. Solving for $\\sigma_t$ gives\n",
    "\n",
    "\\begin{align*}\n",
    "\\frac{w}{2}&=w-2k_t \\sigma_t \\\\\n",
    "\\frac{w}{2}&=2k_t \\sigma_t \\\\\n",
    "\\sigma_t&=\\frac{w}{4k_t}\n",
    "\\end{align*}"
   ]
  },
  {
   "cell_type": "markdown",
   "metadata": {},
   "source": [
    "Since the convolution of a Gaussian kernel with a Heaviside step is the CDF of the kernel, we wish to find the $z$-value $k_t$ such that $1-\\Phi^{-1}(k_t)=\\frac{1}{512}$:"
   ]
  },
  {
   "cell_type": "code",
   "execution_count": 5,
   "metadata": {},
   "outputs": [
    {
     "data": {
      "text/plain": [
       "2.8856349124267573"
      ]
     },
     "execution_count": 5,
     "metadata": {},
     "output_type": "execute_result"
    }
   ],
   "source": [
    "norm.isf(1/512) #Inverse survival function, where survival function=1-cdf"
   ]
  },
  {
   "cell_type": "markdown",
   "metadata": {},
   "source": [
    "## Frequency-Domain Criterion"
   ]
  },
  {
   "cell_type": "markdown",
   "metadata": {},
   "source": [
    "When the baud is small enough, we would like to be able to reduce the size of the Gaussian kernel without adversely impacting signal integrity. To ensure this, we turn to the frequency domain: since we want to filter out the $2\\omega_c$ components, we ensure that the Gaussian filter sufficiently rejects components above $\\omega_c$. "
   ]
  },
  {
   "cell_type": "code",
   "execution_count": null,
   "metadata": {},
   "outputs": [],
   "source": [
    "#diagram"
   ]
  },
  {
   "cell_type": "markdown",
   "metadata": {},
   "source": [
    "Since $\\sigma_f=\\frac{\\omega_c}{k_f}$ and $\\sigma_t=\\frac{1}{2 \\pi \\sigma_f}$, we get that $\\sigma_t=\\frac{k_f}{2 \\pi \\omega_c}$."
   ]
  },
  {
   "cell_type": "markdown",
   "metadata": {},
   "source": [
    "We can use an -80dB rejection threshold to find a corresponding $z$-value $k_f$ such that $1-\\Phi^{-1}(k_f)=0.0001$:"
   ]
  },
  {
   "cell_type": "code",
   "execution_count": 6,
   "metadata": {},
   "outputs": [
    {
     "data": {
      "text/plain": [
       "3.7190164854556804"
      ]
     },
     "execution_count": 6,
     "metadata": {},
     "output_type": "execute_result"
    }
   ],
   "source": [
    "norm.isf(0.0001)"
   ]
  }
 ],
 "metadata": {
  "kernelspec": {
   "display_name": "Environment (virtualenv_voicechat-modem-dsp-ciksczpw)",
   "language": "python",
   "name": "virtualenv_voicechat-modem-dsp-ciksczpw"
  },
  "language_info": {
   "codemirror_mode": {
    "name": "ipython",
    "version": 3
   },
   "file_extension": ".py",
   "mimetype": "text/x-python",
   "name": "python",
   "nbconvert_exporter": "python",
   "pygments_lexer": "ipython3",
   "version": "3.7.3"
  }
 },
 "nbformat": 4,
 "nbformat_minor": 2
}
